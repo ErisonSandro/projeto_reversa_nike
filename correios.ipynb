{
 "cells": [
  {
   "cell_type": "code",
   "execution_count": null,
   "id": "df504cec",
   "metadata": {},
   "outputs": [],
   "source": []
  },
  {
   "cell_type": "code",
   "execution_count": null,
   "id": "1c1fe2fd",
   "metadata": {},
   "outputs": [],
   "source": []
  },
  {
   "cell_type": "code",
   "execution_count": null,
   "id": "14d05bae",
   "metadata": {},
   "outputs": [],
   "source": []
  },
  {
   "cell_type": "code",
   "execution_count": 1,
   "id": "b223e3c9",
   "metadata": {},
   "outputs": [],
   "source": [
    "# -*- coding: utf-8 -*-\n",
    "from unittest import TestCase\n",
    "from correios_lib.webservices import LogisticaReversa\n",
    "from correios_lib.entities import Remetente, Destinatario, Coleta, \\\n",
    "     Objeto, Produto, ColetaSimultanea\n",
    "from correios_lib.requests import RequestSolicitarPostagemReversa, \\\n",
    "     RequestAcompanharPedido, RequestAcompanharPedidoPorData, \\\n",
    "     RequestCancelarPedido, RequestSolicitarRange, \\\n",
    "     RequestCalcularDigitoVerificador, RequestSolicitarPostagemSimultanea\n",
    "import datetime"
   ]
  },
  {
   "cell_type": "code",
   "execution_count": 2,
   "id": "b1feca1e",
   "metadata": {},
   "outputs": [
    {
     "ename": "HTTPError",
     "evalue": "401 Client Error: Unauthorized for url: https://cws.correios.com.br/logisticaReversaWS/logisticaReversaService/logisticaReversaWS?wsdl",
     "output_type": "error",
     "traceback": [
      "\u001b[0;31m---------------------------------------------------------------------------\u001b[0m",
      "\u001b[0;31mHTTPError\u001b[0m                                 Traceback (most recent call last)",
      "Input \u001b[0;32mIn [2]\u001b[0m, in \u001b[0;36m<cell line: 1>\u001b[0;34m()\u001b[0m\n\u001b[0;32m----> 1\u001b[0m cliente\u001b[38;5;241m=\u001b[39m\u001b[43mLogisticaReversa\u001b[49m\u001b[43m(\u001b[49m\n\u001b[1;32m      2\u001b[0m \u001b[43m    \u001b[49m\u001b[43menv\u001b[49m\u001b[38;5;241;43m=\u001b[39;49m\u001b[38;5;124;43m'\u001b[39;49m\u001b[38;5;124;43mPROD\u001b[39;49m\u001b[38;5;124;43m'\u001b[39;49m\u001b[43m,\u001b[49m\n\u001b[1;32m      3\u001b[0m \u001b[43m    \u001b[49m\u001b[43mid_correios\u001b[49m\u001b[38;5;241;43m=\u001b[39;49m\u001b[38;5;124;43m'\u001b[39;49m\u001b[38;5;124;43mgrupo.sbf\u001b[39;49m\u001b[38;5;124;43m'\u001b[39;49m\u001b[43m,\u001b[49m\n\u001b[1;32m      4\u001b[0m \u001b[43m    \u001b[49m\u001b[43mpassword\u001b[49m\u001b[38;5;241;43m=\u001b[39;49m\u001b[38;5;124;43m'\u001b[39;49m\u001b[38;5;124;43mcentauro2021\u001b[39;49m\u001b[38;5;124;43m'\u001b[39;49m\u001b[43m,\u001b[49m\n\u001b[1;32m      5\u001b[0m \u001b[43m    \u001b[49m\u001b[43mcert\u001b[49m\u001b[38;5;241;43m=\u001b[39;49m\u001b[38;5;28;43;01mTrue\u001b[39;49;00m\u001b[43m)\u001b[49m\n",
      "File \u001b[0;32m~/.local/lib/python3.8/site-packages/correios_lib/base.py:96\u001b[0m, in \u001b[0;36mWebserviceBase.__init__\u001b[0;34m(self, env, id_correios, password, cert, log_config)\u001b[0m\n\u001b[1;32m     90\u001b[0m     logging\u001b[38;5;241m.\u001b[39mconfig\u001b[38;5;241m.\u001b[39mdictConfig(log_config)\n\u001b[1;32m     92\u001b[0m t \u001b[38;5;241m=\u001b[39m Transport(\n\u001b[1;32m     93\u001b[0m     verify\u001b[38;5;241m=\u001b[39mverify,\n\u001b[1;32m     94\u001b[0m     http_auth\u001b[38;5;241m=\u001b[39m(id_correios, password)\n\u001b[1;32m     95\u001b[0m )\n\u001b[0;32m---> 96\u001b[0m \u001b[38;5;28mself\u001b[39m\u001b[38;5;241m.\u001b[39mclient \u001b[38;5;241m=\u001b[39m \u001b[43mClient\u001b[49m\u001b[43m(\u001b[49m\u001b[43mwsdl\u001b[49m\u001b[38;5;241;43m=\u001b[39;49m\u001b[38;5;28;43mself\u001b[39;49m\u001b[38;5;241;43m.\u001b[39;49m\u001b[43mget_env\u001b[49m\u001b[43m(\u001b[49m\u001b[43menv\u001b[49m\u001b[43m)\u001b[49m\u001b[43m,\u001b[49m\u001b[43m \u001b[49m\u001b[43mtransport\u001b[49m\u001b[38;5;241;43m=\u001b[39;49m\u001b[43mt\u001b[49m\u001b[43m)\u001b[49m\n",
      "File \u001b[0;32m~/.local/lib/python3.8/site-packages/zeep/client.py:52\u001b[0m, in \u001b[0;36mClient.__init__\u001b[0;34m(self, wsdl, wsse, transport, service_name, port_name)\u001b[0m\n\u001b[1;32m     49\u001b[0m     \u001b[38;5;28;01mraise\u001b[39;00m \u001b[38;5;167;01mValueError\u001b[39;00m(\u001b[38;5;124m\"\u001b[39m\u001b[38;5;124mNo URL given for the wsdl\u001b[39m\u001b[38;5;124m\"\u001b[39m)\n\u001b[1;32m     51\u001b[0m \u001b[38;5;28mself\u001b[39m\u001b[38;5;241m.\u001b[39mtransport \u001b[38;5;241m=\u001b[39m transport \u001b[38;5;129;01mor\u001b[39;00m Transport()\n\u001b[0;32m---> 52\u001b[0m \u001b[38;5;28mself\u001b[39m\u001b[38;5;241m.\u001b[39mwsdl \u001b[38;5;241m=\u001b[39m \u001b[43mDocument\u001b[49m\u001b[43m(\u001b[49m\u001b[43mwsdl\u001b[49m\u001b[43m,\u001b[49m\u001b[43m \u001b[49m\u001b[38;5;28;43mself\u001b[39;49m\u001b[38;5;241;43m.\u001b[39;49m\u001b[43mtransport\u001b[49m\u001b[43m)\u001b[49m\n\u001b[1;32m     53\u001b[0m \u001b[38;5;28mself\u001b[39m\u001b[38;5;241m.\u001b[39mwsse \u001b[38;5;241m=\u001b[39m wsse\n\u001b[1;32m     55\u001b[0m \u001b[38;5;28mself\u001b[39m\u001b[38;5;241m.\u001b[39m_default_service \u001b[38;5;241m=\u001b[39m \u001b[38;5;28;01mNone\u001b[39;00m\n",
      "File \u001b[0;32m~/.local/lib/python3.8/site-packages/zeep/wsdl/wsdl.py:59\u001b[0m, in \u001b[0;36mDocument.__init__\u001b[0;34m(self, location, transport)\u001b[0m\n\u001b[1;32m     56\u001b[0m \u001b[38;5;66;03m# Dict with internal schema objects, used for lxml.ImportResolver\u001b[39;00m\n\u001b[1;32m     57\u001b[0m \u001b[38;5;28mself\u001b[39m\u001b[38;5;241m.\u001b[39m_parser_context \u001b[38;5;241m=\u001b[39m ParserContext()\n\u001b[0;32m---> 59\u001b[0m document \u001b[38;5;241m=\u001b[39m \u001b[38;5;28;43mself\u001b[39;49m\u001b[38;5;241;43m.\u001b[39;49m\u001b[43m_load_content\u001b[49m\u001b[43m(\u001b[49m\u001b[43mlocation\u001b[49m\u001b[43m)\u001b[49m\n\u001b[1;32m     61\u001b[0m root_definitions \u001b[38;5;241m=\u001b[39m Definition(\u001b[38;5;28mself\u001b[39m, document, \u001b[38;5;28mself\u001b[39m\u001b[38;5;241m.\u001b[39mlocation)\n\u001b[1;32m     62\u001b[0m root_definitions\u001b[38;5;241m.\u001b[39mresolve_imports()\n",
      "File \u001b[0;32m~/.local/lib/python3.8/site-packages/zeep/wsdl/wsdl.py:120\u001b[0m, in \u001b[0;36mDocument._load_content\u001b[0;34m(self, location)\u001b[0m\n\u001b[1;32m    118\u001b[0m \u001b[38;5;28;01mif\u001b[39;00m \u001b[38;5;28mhasattr\u001b[39m(location, \u001b[38;5;124m'\u001b[39m\u001b[38;5;124mread\u001b[39m\u001b[38;5;124m'\u001b[39m):\n\u001b[1;32m    119\u001b[0m     \u001b[38;5;28;01mreturn\u001b[39;00m parse_xml(location\u001b[38;5;241m.\u001b[39mread(), \u001b[38;5;28mself\u001b[39m\u001b[38;5;241m.\u001b[39mtransport)\n\u001b[0;32m--> 120\u001b[0m \u001b[38;5;28;01mreturn\u001b[39;00m \u001b[43mload_external\u001b[49m\u001b[43m(\u001b[49m\u001b[43mlocation\u001b[49m\u001b[43m,\u001b[49m\u001b[43m \u001b[49m\u001b[38;5;28;43mself\u001b[39;49m\u001b[38;5;241;43m.\u001b[39;49m\u001b[43mtransport\u001b[49m\u001b[43m,\u001b[49m\u001b[43m \u001b[49m\u001b[38;5;28;43mself\u001b[39;49m\u001b[38;5;241;43m.\u001b[39;49m\u001b[43mlocation\u001b[49m\u001b[43m)\u001b[49m\n",
      "File \u001b[0;32m~/.local/lib/python3.8/site-packages/zeep/parser.py:22\u001b[0m, in \u001b[0;36mload_external\u001b[0;34m(url, transport, base_url)\u001b[0m\n\u001b[1;32m     19\u001b[0m \u001b[38;5;28;01mif\u001b[39;00m base_url:\n\u001b[1;32m     20\u001b[0m     url \u001b[38;5;241m=\u001b[39m absolute_location(url, base_url)\n\u001b[0;32m---> 22\u001b[0m response \u001b[38;5;241m=\u001b[39m \u001b[43mtransport\u001b[49m\u001b[38;5;241;43m.\u001b[39;49m\u001b[43mload\u001b[49m\u001b[43m(\u001b[49m\u001b[43murl\u001b[49m\u001b[43m)\u001b[49m\n\u001b[1;32m     23\u001b[0m \u001b[38;5;28;01mreturn\u001b[39;00m parse_xml(response, transport, base_url)\n",
      "File \u001b[0;32m~/.local/lib/python3.8/site-packages/zeep/transports.py:41\u001b[0m, in \u001b[0;36mTransport.load\u001b[0;34m(self, url)\u001b[0m\n\u001b[1;32m     38\u001b[0m         \u001b[38;5;28;01mreturn\u001b[39;00m \u001b[38;5;28mbytes\u001b[39m(response)\n\u001b[1;32m     40\u001b[0m response \u001b[38;5;241m=\u001b[39m \u001b[38;5;28mself\u001b[39m\u001b[38;5;241m.\u001b[39msession\u001b[38;5;241m.\u001b[39mget(url, timeout\u001b[38;5;241m=\u001b[39m\u001b[38;5;28mself\u001b[39m\u001b[38;5;241m.\u001b[39mtimeout)\n\u001b[0;32m---> 41\u001b[0m \u001b[43mresponse\u001b[49m\u001b[38;5;241;43m.\u001b[39;49m\u001b[43mraise_for_status\u001b[49m\u001b[43m(\u001b[49m\u001b[43m)\u001b[49m\n\u001b[1;32m     43\u001b[0m \u001b[38;5;28;01mif\u001b[39;00m \u001b[38;5;28mself\u001b[39m\u001b[38;5;241m.\u001b[39mcache:\n\u001b[1;32m     44\u001b[0m     \u001b[38;5;28mself\u001b[39m\u001b[38;5;241m.\u001b[39mcache\u001b[38;5;241m.\u001b[39madd(url, response\u001b[38;5;241m.\u001b[39mcontent)\n",
      "File \u001b[0;32m~/.local/lib/python3.8/site-packages/requests/models.py:1021\u001b[0m, in \u001b[0;36mResponse.raise_for_status\u001b[0;34m(self)\u001b[0m\n\u001b[1;32m   1016\u001b[0m     http_error_msg \u001b[38;5;241m=\u001b[39m (\n\u001b[1;32m   1017\u001b[0m         \u001b[38;5;124mf\u001b[39m\u001b[38;5;124m\"\u001b[39m\u001b[38;5;132;01m{\u001b[39;00m\u001b[38;5;28mself\u001b[39m\u001b[38;5;241m.\u001b[39mstatus_code\u001b[38;5;132;01m}\u001b[39;00m\u001b[38;5;124m Server Error: \u001b[39m\u001b[38;5;132;01m{\u001b[39;00mreason\u001b[38;5;132;01m}\u001b[39;00m\u001b[38;5;124m for url: \u001b[39m\u001b[38;5;132;01m{\u001b[39;00m\u001b[38;5;28mself\u001b[39m\u001b[38;5;241m.\u001b[39murl\u001b[38;5;132;01m}\u001b[39;00m\u001b[38;5;124m\"\u001b[39m\n\u001b[1;32m   1018\u001b[0m     )\n\u001b[1;32m   1020\u001b[0m \u001b[38;5;28;01mif\u001b[39;00m http_error_msg:\n\u001b[0;32m-> 1021\u001b[0m     \u001b[38;5;28;01mraise\u001b[39;00m HTTPError(http_error_msg, response\u001b[38;5;241m=\u001b[39m\u001b[38;5;28mself\u001b[39m)\n",
      "\u001b[0;31mHTTPError\u001b[0m: 401 Client Error: Unauthorized for url: https://cws.correios.com.br/logisticaReversaWS/logisticaReversaService/logisticaReversaWS?wsdl"
     ]
    }
   ],
   "source": [
    "cliente=LogisticaReversa(\n",
    "    env='PROD',\n",
    "    id_correios='grupo.sbf',\n",
    "    password='centauro2021',\n",
    "    cert=True)"
   ]
  },
  {
   "cell_type": "code",
   "execution_count": null,
   "id": "22e96bed",
   "metadata": {},
   "outputs": [],
   "source": [
    "request = RequestSolicitarPostagemReversa(\n",
    "            codAdministrativo='13415611',\n",
    "            codigo_servico='04677',\n",
    "            cartao='0075199017',\n",
    "            \n",
    "            destinatario=Destinatario(\n",
    "                nome='Nike - JP LOGISTICA',\n",
    "                logradouro='Rodovia Fernão Dias',\n",
    "                numero='S/N',\n",
    "                complemento='Km 947.5 G40 Modulo B-NIVEL1',\n",
    "                bairro='Bairro dos Pires',\n",
    "                cidade='́Extrema',\n",
    "                uf='MG',\n",
    "                cep='37640950'\n",
    "            ),\n",
    "    \n",
    "            coletas_solicitadas=[\n",
    "                Coleta(\n",
    "                    tipo='A',\n",
    "                    valor_declarado=1500.00,\n",
    "                    remetente=Remetente(\n",
    "                        nome='Ciclano',\n",
    "                        logradouro='Rua 35',\n",
    "                        numero='10',\n",
    "                        bairro='Águas Claras(Sul)',\n",
    "                        cidade='Brasília',\n",
    "                        uf='DF',\n",
    "                        cep='71931-180',\n",
    "                        ddd='61',\n",
    "                        telefone='34262222',\n",
    "                        email='ciclano@mail.com',\n",
    "                        identificacao='',\n",
    "                        ddd_celular='61',\n",
    "                        celular='92236666',\n",
    "                        sms='N'\n",
    "                    ),\n",
    "\n",
    "                    obj_col=[\n",
    "                        Objeto(\n",
    "                            item=1,\n",
    "                            id='582298235'\n",
    "\n",
    "                        )\n",
    "                    ]\n",
    "                )\n",
    "            ]\n",
    "        )\n",
    "\n",
    "response = cliente.SolicitarPostagemReversa(request)\n",
    "print(response)\n"
   ]
  },
  {
   "cell_type": "code",
   "execution_count": null,
   "id": "31191846",
   "metadata": {},
   "outputs": [],
   "source": [
    "# ###############################################################################################################\n",
    "# from unittest import TestCase\n",
    "# from correios_lib.webservices import LogisticaReversa\n",
    "# from correios_lib.entities import Remetente, Destinatario, Coleta, \\\n",
    "#      Objeto, Produto, ColetaSimultanea\n",
    "# from correios_lib.requests import RequestSolicitarPostagemReversa, \\\n",
    "#      RequestAcompanharPedido, RequestAcompanharPedidoPorData, \\\n",
    "#      RequestCancelarPedido, RequestSolicitarRange, \\\n",
    "#      RequestCalcularDigitoVerificador, RequestSolicitarPostagemSimultanea\n",
    "# import datetime\n",
    "\n",
    "\n",
    "# # cliente = LogisticaReversa(\n",
    "# #             env='HOMOLOG',\n",
    "# #             id_correios='empresacws',\n",
    "# #             password='123456',\n",
    "# #             cert=False\n",
    "# #         )\n",
    "\n",
    "\n",
    "# request = RequestAcompanharPedidoPorData(\n",
    "#     codAdministrativo='13415611',\n",
    "#     tipoSolicitacao='A',\n",
    "#     data=datetime.date(2022, 11, 14)\n",
    "# )\n",
    "# response = cliente.AcompanharPedidoPorData(request)\n",
    "# print(response)"
   ]
  }
 ],
 "metadata": {
  "kernelspec": {
   "display_name": "Python 3 (ipykernel)",
   "language": "python",
   "name": "python3"
  },
  "language_info": {
   "codemirror_mode": {
    "name": "ipython",
    "version": 3
   },
   "file_extension": ".py",
   "mimetype": "text/x-python",
   "name": "python",
   "nbconvert_exporter": "python",
   "pygments_lexer": "ipython3",
   "version": "3.8.10"
  }
 },
 "nbformat": 4,
 "nbformat_minor": 5
}
