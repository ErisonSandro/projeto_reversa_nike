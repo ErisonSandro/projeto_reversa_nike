{
 "cells": [
  {
   "cell_type": "code",
   "execution_count": null,
   "id": "df504cec",
   "metadata": {},
   "outputs": [],
   "source": []
  },
  {
   "cell_type": "code",
   "execution_count": null,
   "id": "1c1fe2fd",
   "metadata": {},
   "outputs": [],
   "source": []
  },
  {
   "cell_type": "code",
   "execution_count": null,
   "id": "14d05bae",
   "metadata": {},
   "outputs": [],
   "source": []
  },
  {
   "cell_type": "code",
   "execution_count": 1,
   "id": "b223e3c9",
   "metadata": {},
   "outputs": [],
   "source": [
    "# -*- coding: utf-8 -*-\n",
    "from unittest import TestCase\n",
    "from correios_lib.webservices import LogisticaReversa\n",
    "from correios_lib.entities import Remetente, Destinatario, Coleta, \\\n",
    "     Objeto, Produto, ColetaSimultanea\n",
    "from correios_lib.requests import RequestSolicitarPostagemReversa, \\\n",
    "     RequestAcompanharPedido, RequestAcompanharPedidoPorData, \\\n",
    "     RequestCancelarPedido, RequestSolicitarRange, \\\n",
    "     RequestCalcularDigitoVerificador, RequestSolicitarPostagemSimultanea\n",
    "import datetime"
   ]
  },
  {
   "cell_type": "code",
   "execution_count": null,
   "id": "b1feca1e",
   "metadata": {},
   "outputs": [],
   "source": [
    "cliente=LogisticaReversa(\n",
    "    env='PROD',\n",
    "    id_correios='grupo.sbf',\n",
    "    password='centauro2021',\n",
    "    cert=True)"
   ]
  },
  {
   "cell_type": "code",
   "execution_count": null,
   "id": "22e96bed",
   "metadata": {},
   "outputs": [],
   "source": [
    "request = RequestSolicitarPostagemReversa(\n",
    "            codAdministrativo='13415611',\n",
    "            codigo_servico='04677',\n",
    "            cartao='0075199017',\n",
    "            \n",
    "            destinatario=Destinatario(\n",
    "                nome='Nike - JP LOGISTICA',\n",
    "                logradouro='Rodovia Fernão Dias',\n",
    "                numero='S/N',\n",
    "                complemento='Km 947.5 G40 Modulo B-NIVEL1',\n",
    "                bairro='Bairro dos Pires',\n",
    "                cidade='́Extrema',\n",
    "                uf='MG',\n",
    "                cep='37640950'\n",
    "            ),\n",
    "    \n",
    "            coletas_solicitadas=[\n",
    "                Coleta(\n",
    "                    tipo='A',\n",
    "                    valor_declarado=1500.00,\n",
    "                    remetente=Remetente(\n",
    "                        nome='Ciclano',\n",
    "                        logradouro='Rua 35',\n",
    "                        numero='10',\n",
    "                        bairro='Águas Claras(Sul)',\n",
    "                        cidade='Brasília',\n",
    "                        uf='DF',\n",
    "                        cep='71931-180',\n",
    "                        ddd='61',\n",
    "                        telefone='34262222',\n",
    "                        email='ciclano@mail.com',\n",
    "                        identificacao='',\n",
    "                        ddd_celular='61',\n",
    "                        celular='92236666',\n",
    "                        sms='N'\n",
    "                    ),\n",
    "\n",
    "                    obj_col=[\n",
    "                        Objeto(\n",
    "                            item=1,\n",
    "                            id='582298235'\n",
    "\n",
    "                        )\n",
    "                    ]\n",
    "                )\n",
    "            ]\n",
    "        )\n",
    "\n",
    "response = cliente.SolicitarPostagemReversa(request)\n",
    "print(response)\n"
   ]
  },
  {
   "cell_type": "code",
   "execution_count": null,
   "id": "31191846",
   "metadata": {},
   "outputs": [],
   "source": [
    "# ###############################################################################################################\n",
    "# from unittest import TestCase\n",
    "# from correios_lib.webservices import LogisticaReversa\n",
    "# from correios_lib.entities import Remetente, Destinatario, Coleta, \\\n",
    "#      Objeto, Produto, ColetaSimultanea\n",
    "# from correios_lib.requests import RequestSolicitarPostagemReversa, \\\n",
    "#      RequestAcompanharPedido, RequestAcompanharPedidoPorData, \\\n",
    "#      RequestCancelarPedido, RequestSolicitarRange, \\\n",
    "#      RequestCalcularDigitoVerificador, RequestSolicitarPostagemSimultanea\n",
    "# import datetime\n",
    "\n",
    "\n",
    "# # cliente = LogisticaReversa(\n",
    "# #             env='HOMOLOG',\n",
    "# #             id_correios='empresacws',\n",
    "# #             password='123456',\n",
    "# #             cert=False\n",
    "# #         )\n",
    "\n",
    "\n",
    "# request = RequestAcompanharPedidoPorData(\n",
    "#     codAdministrativo='13415611',\n",
    "#     tipoSolicitacao='A',\n",
    "#     data=datetime.date(2022, 11, 14)\n",
    "# )\n",
    "# response = cliente.AcompanharPedidoPorData(request)\n",
    "# print(response)"
   ]
  }
 ],
 "metadata": {
  "kernelspec": {
   "display_name": "Python 3 (ipykernel)",
   "language": "python",
   "name": "python3"
  },
  "language_info": {
   "codemirror_mode": {
    "name": "ipython",
    "version": 3
   },
   "file_extension": ".py",
   "mimetype": "text/x-python",
   "name": "python",
   "nbconvert_exporter": "python",
   "pygments_lexer": "ipython3",
   "version": "3.8.10"
  }
 },
 "nbformat": 4,
 "nbformat_minor": 5
}
